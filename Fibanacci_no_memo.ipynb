{
 "cells": [
  {
   "cell_type": "markdown",
   "metadata": {},
   "source": [
    "Fibonacci without Memoization"
   ]
  },
  {
   "cell_type": "code",
   "execution_count": null,
   "metadata": {},
   "outputs": [],
   "source": [
    "import time\n",
    "\n",
    "def fibonacci(n):\n",
    "    if n < 0: raise ValueError(\"Negative input\")\n",
    "    if n == 0: return 0\n",
    "    if n == 1: return 1\n",
    "    return fibonacci(n - 1) + fibonacci(n - 2)\n",
    "\n",
    "\n",
    "    n = 35\n",
    "    start = time.time()\n",
    "    result = fibonacci(n)\n",
    "    end = time.time()\n",
    "    print(f\"Fibonacci({n}) = {result}, Time: {end - start:.4f} seconds\")"
   ]
  },
  {
   "cell_type": "code",
   "execution_count": null,
   "metadata": {},
   "outputs": [],
   "source": []
  }
 ],
 "metadata": {
  "language_info": {
   "name": "python"
  }
 },
 "nbformat": 4,
 "nbformat_minor": 2
}
