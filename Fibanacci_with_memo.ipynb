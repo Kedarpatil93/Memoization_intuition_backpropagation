{
 "cells": [
  {
   "cell_type": "markdown",
   "metadata": {},
   "source": [
    "Fibonacci with Memoization"
   ]
  },
  {
   "cell_type": "code",
   "execution_count": null,
   "metadata": {},
   "outputs": [],
   "source": [
    "import time\n",
    "\n",
    "def fibonacci(n, memo=None):\n",
    "    if memo is None: memo = {}\n",
    "    if n in memo: return memo[n]\n",
    "    if n < 0: raise ValueError(\"Negative input\")\n",
    "    if n == 0: return 0\n",
    "    if n == 1: return 1\n",
    "    memo[n] = fibonacci(n - 1, memo) + fibonacci(n - 2, memo)\n",
    "    return memo[n]\n",
    "\n",
    "\n",
    "    n = 35\n",
    "    start = time.time()\n",
    "    result = fibonacci(n)\n",
    "    end = time.time()\n",
    "    print(f\"Fibonacci({n}) = {result}, Time: {end - start:.4f} seconds\")"
   ]
  },
  {
   "cell_type": "code",
   "execution_count": null,
   "metadata": {},
   "outputs": [],
   "source": []
  }
 ],
 "metadata": {
  "language_info": {
   "name": "python"
  }
 },
 "nbformat": 4,
 "nbformat_minor": 2
}
